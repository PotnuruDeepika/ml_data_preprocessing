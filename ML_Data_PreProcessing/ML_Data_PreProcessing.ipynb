{
 "cells": [
  {
   "cell_type": "markdown",
   "metadata": {},
   "source": [
    "# Work on a Real Dataset"
   ]
  },
  {
   "cell_type": "code",
   "execution_count": 41,
   "metadata": {},
   "outputs": [],
   "source": [
    "#Augmented Experiment\n",
    "#Name : P.Deepika"
   ]
  },
  {
   "cell_type": "code",
   "execution_count": 42,
   "metadata": {},
   "outputs": [],
   "source": [
    "#Importing the libraries\n",
    "import numpy as np\n",
    "import matplotlib.pyplot as plt\n",
    "import pandas as pd"
   ]
  },
  {
   "cell_type": "code",
   "execution_count": 43,
   "metadata": {},
   "outputs": [],
   "source": [
    "#Importing the dataset\n",
    "dataset = pd.read_csv('student.csv')\n",
    "X = dataset.iloc[:, :-1].values\n",
    "y = dataset.iloc[:, -1].values"
   ]
  },
  {
   "cell_type": "code",
   "execution_count": 44,
   "metadata": {},
   "outputs": [
    {
     "name": "stdout",
     "output_type": "stream",
     "text": [
      "[['V.Vineela' 'GMRIT' 20.0 89.0]\n",
      " ['V.Swetha' 'GMRIT' 20.0 90.0]\n",
      " ['Upparapalli Ramesh' 'GMRIT' nan 90.0]\n",
      " ['Jyothi' 'AU' 19.0 nan]\n",
      " ['Ramu Yerramsetti' 'GMRIT' 20.0 75.0]\n",
      " ['Rajana Sai Manikanta' 'GMRIT' 20.0 84.0]\n",
      " ['Uma Shankar' 'AU' 19.0 12.0]\n",
      " ['Michel' 'GMRIT' 18.0 99.0]\n",
      " ['Dhamareshwarakumar Gandikota' 'GMRIT' 21.0 70.0]\n",
      " ['MS Rizwan' 'GMRIT' nan 92.0]\n",
      " ['Thota Prasanth' 'GMRIT' 20.0 97.0]\n",
      " ['Jhansi' 'GMRIT' 20.0 nan]\n",
      " ['Sneha' 'AITAM' 21.0 85.0]\n",
      " ['Bukkaptanam Narasimha Swami' 'AU' 19.0 93.0]\n",
      " ['Renuka kola' 'GMRIT' 19.0 nan]\n",
      " ['M. Suryanarayana' 'AITAM' 20.0 8.24]\n",
      " ['Revathi' 'GMRIT' 20.0 nan]\n",
      " ['P vamsi' 'GMRIT' 21.0 0.0]\n",
      " ['Surya' 'GMRIT' 21.0 91.0]\n",
      " ['Pakki Venkata Sai Manasa' 'GMRIT' 19.0 90.0]\n",
      " ['VINJAMURI ARAVIND' 'GMRIT' 19.0 46.0]\n",
      " ['Michel' 'AITAM' 17.0 89.0]\n",
      " ['Paluri.Kali Halkesh' 'GMRIT' 22.0 72.0]\n",
      " ['Yasin' 'GMRIT' 20.0 63.0]\n",
      " ['Sharon Kota' 'GMRIT' 18.0 20.0]\n",
      " ['Aadhya' 'AU' 19.0 24.0]\n",
      " ['Deepika' 'GMRIT' 19.0 78.0]\n",
      " ['Sri' 'AU' 21.0 29.0]\n",
      " ['Charishma' 'AITAM' 18.0 63.0]\n",
      " ['Surya' 'AITAM' 22.0 45.0]\n",
      " ['Bhavani' 'AU' 23.0 98.0]\n",
      " ['Shyam' 'AU' nan 23.0]\n",
      " ['Laxmi' 'GMRIT' 20.0 86.0]\n",
      " ['Kiran' 'AU' 19.0 85.0]\n",
      " ['Mani' 'GMRIT' 18.0 nan]\n",
      " ['Charan' 'AITAM' 21.0 56.0]\n",
      " ['Aravind' 'AU' 20.0 33.0]\n",
      " ['Nagaraj' 'AITAM' 18.0 12.0]\n",
      " ['Sweety' 'GMRIT' 22.0 nan]\n",
      " ['Jahnavi' 'AU' 19.0 39.0]]\n"
     ]
    }
   ],
   "source": [
    "#Displaying the Rows as a Record\n",
    "print(X)"
   ]
  },
  {
   "cell_type": "code",
   "execution_count": 45,
   "metadata": {},
   "outputs": [
    {
     "name": "stdout",
     "output_type": "stream",
     "text": [
      "['Pass' 'Pass' 'Pass' 'Pass' 'Pass' 'Pass' 'Pass' 'Pass' 'Pass' 'Pass'\n",
      " 'Pass' 'Pass' 'Pass' 'Pass' 'Pass' 'Pass' 'Pass' 'Fail' 'Pass' 'Pass'\n",
      " 'Pass' 'Fail' 'Pass' 'Pass' 'Pass' 'Fail' 'Pass' 'Fail' 'Pass' 'Fail'\n",
      " 'Pass' 'Fail' 'Pass' 'Pass' 'Fail' 'Pass' 'Fail' 'Fail' 'Pass' 'Pass']\n"
     ]
    }
   ],
   "source": [
    "#Displaying the Column as a Record Field\n",
    "print(y)"
   ]
  },
  {
   "cell_type": "code",
   "execution_count": 46,
   "metadata": {},
   "outputs": [],
   "source": [
    "#Tracing the Missing Data\n",
    "from sklearn.impute import SimpleImputer\n",
    "imputer = SimpleImputer(missing_values=np.nan, strategy='mean')\n",
    "imputer.fit(X[:, 2:4])\n",
    "X[:, 2:4] = imputer.transform(X[:, 2:4])"
   ]
  },
  {
   "cell_type": "code",
   "execution_count": 47,
   "metadata": {},
   "outputs": [
    {
     "name": "stdout",
     "output_type": "stream",
     "text": [
      "[['V.Vineela' 'GMRIT' 20.0 89.0]\n",
      " ['V.Swetha' 'GMRIT' 20.0 90.0]\n",
      " ['Upparapalli Ramesh' 'GMRIT' 19.783783783783782 90.0]\n",
      " ['Jyothi' 'AU' 19.0 62.53647058823529]\n",
      " ['Ramu Yerramsetti' 'GMRIT' 20.0 75.0]\n",
      " ['Rajana Sai Manikanta' 'GMRIT' 20.0 84.0]\n",
      " ['Uma Shankar' 'AU' 19.0 12.0]\n",
      " ['Michel' 'GMRIT' 18.0 99.0]\n",
      " ['Dhamareshwarakumar Gandikota' 'GMRIT' 21.0 70.0]\n",
      " ['MS Rizwan' 'GMRIT' 19.783783783783782 92.0]\n",
      " ['Thota Prasanth' 'GMRIT' 20.0 97.0]\n",
      " ['Jhansi' 'GMRIT' 20.0 62.53647058823529]\n",
      " ['Sneha' 'AITAM' 21.0 85.0]\n",
      " ['Bukkaptanam Narasimha Swami' 'AU' 19.0 93.0]\n",
      " ['Renuka kola' 'GMRIT' 19.0 62.53647058823529]\n",
      " ['M. Suryanarayana' 'AITAM' 20.0 8.24]\n",
      " ['Revathi' 'GMRIT' 20.0 62.53647058823529]\n",
      " ['P vamsi' 'GMRIT' 21.0 0.0]\n",
      " ['Surya' 'GMRIT' 21.0 91.0]\n",
      " ['Pakki Venkata Sai Manasa' 'GMRIT' 19.0 90.0]\n",
      " ['VINJAMURI ARAVIND' 'GMRIT' 19.0 46.0]\n",
      " ['Michel' 'AITAM' 17.0 89.0]\n",
      " ['Paluri.Kali Halkesh' 'GMRIT' 22.0 72.0]\n",
      " ['Yasin' 'GMRIT' 20.0 63.0]\n",
      " ['Sharon Kota' 'GMRIT' 18.0 20.0]\n",
      " ['Aadhya' 'AU' 19.0 24.0]\n",
      " ['Deepika' 'GMRIT' 19.0 78.0]\n",
      " ['Sri' 'AU' 21.0 29.0]\n",
      " ['Charishma' 'AITAM' 18.0 63.0]\n",
      " ['Surya' 'AITAM' 22.0 45.0]\n",
      " ['Bhavani' 'AU' 23.0 98.0]\n",
      " ['Shyam' 'AU' 19.783783783783782 23.0]\n",
      " ['Laxmi' 'GMRIT' 20.0 86.0]\n",
      " ['Kiran' 'AU' 19.0 85.0]\n",
      " ['Mani' 'GMRIT' 18.0 62.53647058823529]\n",
      " ['Charan' 'AITAM' 21.0 56.0]\n",
      " ['Aravind' 'AU' 20.0 33.0]\n",
      " ['Nagaraj' 'AITAM' 18.0 12.0]\n",
      " ['Sweety' 'GMRIT' 22.0 62.53647058823529]\n",
      " ['Jahnavi' 'AU' 19.0 39.0]]\n"
     ]
    }
   ],
   "source": [
    "# Displaying the Rows as a Record with filled in Missing Values\n",
    "print(X) "
   ]
  },
  {
   "cell_type": "code",
   "execution_count": 48,
   "metadata": {},
   "outputs": [],
   "source": [
    "#Encoding the Independent Variable\n",
    "from sklearn.compose import ColumnTransformer\n",
    "from sklearn.preprocessing import OneHotEncoder\n",
    "ct = ColumnTransformer(transformers=[('encoder', OneHotEncoder(), [1])], remainder='passthrough')\n",
    "X = np.array(ct.fit_transform(X)) #fitting and encoding happens in parallel"
   ]
  },
  {
   "cell_type": "code",
   "execution_count": 49,
   "metadata": {},
   "outputs": [
    {
     "name": "stdout",
     "output_type": "stream",
     "text": [
      "[[0.0 0.0 1.0 'V.Vineela' 20.0 89.0]\n",
      " [0.0 0.0 1.0 'V.Swetha' 20.0 90.0]\n",
      " [0.0 0.0 1.0 'Upparapalli Ramesh' 19.783783783783782 90.0]\n",
      " [0.0 1.0 0.0 'Jyothi' 19.0 62.53647058823529]\n",
      " [0.0 0.0 1.0 'Ramu Yerramsetti' 20.0 75.0]\n",
      " [0.0 0.0 1.0 'Rajana Sai Manikanta' 20.0 84.0]\n",
      " [0.0 1.0 0.0 'Uma Shankar' 19.0 12.0]\n",
      " [0.0 0.0 1.0 'Michel' 18.0 99.0]\n",
      " [0.0 0.0 1.0 'Dhamareshwarakumar Gandikota' 21.0 70.0]\n",
      " [0.0 0.0 1.0 'MS Rizwan' 19.783783783783782 92.0]\n",
      " [0.0 0.0 1.0 'Thota Prasanth' 20.0 97.0]\n",
      " [0.0 0.0 1.0 'Jhansi' 20.0 62.53647058823529]\n",
      " [1.0 0.0 0.0 'Sneha' 21.0 85.0]\n",
      " [0.0 1.0 0.0 'Bukkaptanam Narasimha Swami' 19.0 93.0]\n",
      " [0.0 0.0 1.0 'Renuka kola' 19.0 62.53647058823529]\n",
      " [1.0 0.0 0.0 'M. Suryanarayana' 20.0 8.24]\n",
      " [0.0 0.0 1.0 'Revathi' 20.0 62.53647058823529]\n",
      " [0.0 0.0 1.0 'P vamsi' 21.0 0.0]\n",
      " [0.0 0.0 1.0 'Surya' 21.0 91.0]\n",
      " [0.0 0.0 1.0 'Pakki Venkata Sai Manasa' 19.0 90.0]\n",
      " [0.0 0.0 1.0 'VINJAMURI ARAVIND' 19.0 46.0]\n",
      " [1.0 0.0 0.0 'Michel' 17.0 89.0]\n",
      " [0.0 0.0 1.0 'Paluri.Kali Halkesh' 22.0 72.0]\n",
      " [0.0 0.0 1.0 'Yasin' 20.0 63.0]\n",
      " [0.0 0.0 1.0 'Sharon Kota' 18.0 20.0]\n",
      " [0.0 1.0 0.0 'Aadhya' 19.0 24.0]\n",
      " [0.0 0.0 1.0 'Deepika' 19.0 78.0]\n",
      " [0.0 1.0 0.0 'Sri' 21.0 29.0]\n",
      " [1.0 0.0 0.0 'Charishma' 18.0 63.0]\n",
      " [1.0 0.0 0.0 'Surya' 22.0 45.0]\n",
      " [0.0 1.0 0.0 'Bhavani' 23.0 98.0]\n",
      " [0.0 1.0 0.0 'Shyam' 19.783783783783782 23.0]\n",
      " [0.0 0.0 1.0 'Laxmi' 20.0 86.0]\n",
      " [0.0 1.0 0.0 'Kiran' 19.0 85.0]\n",
      " [0.0 0.0 1.0 'Mani' 18.0 62.53647058823529]\n",
      " [1.0 0.0 0.0 'Charan' 21.0 56.0]\n",
      " [0.0 1.0 0.0 'Aravind' 20.0 33.0]\n",
      " [1.0 0.0 0.0 'Nagaraj' 18.0 12.0]\n",
      " [0.0 0.0 1.0 'Sweety' 22.0 62.53647058823529]\n",
      " [0.0 1.0 0.0 'Jahnavi' 19.0 39.0]]\n"
     ]
    }
   ],
   "source": [
    "#Displaying the Rows as a Record with Categorical Data 0'sand 1's\n",
    "print(X)"
   ]
  },
  {
   "cell_type": "code",
   "execution_count": 50,
   "metadata": {},
   "outputs": [],
   "source": [
    "#Encoding the Dependent Variable\n",
    "from sklearn.preprocessing import LabelEncoder\n",
    "le = LabelEncoder()\n",
    "y = le.fit_transform(y)"
   ]
  },
  {
   "cell_type": "code",
   "execution_count": 51,
   "metadata": {},
   "outputs": [
    {
     "name": "stdout",
     "output_type": "stream",
     "text": [
      "[1 1 1 1 1 1 1 1 1 1 1 1 1 1 1 1 1 0 1 1 1 0 1 1 1 0 1 0 1 0 1 0 1 1 0 1 0\n",
      " 0 1 1]\n"
     ]
    }
   ],
   "source": [
    "# Displaying the Column as a Record Field\n",
    "print(y) "
   ]
  },
  {
   "cell_type": "code",
   "execution_count": 52,
   "metadata": {},
   "outputs": [],
   "source": [
    "#Splitting the dataset into the Training set and Test set\n",
    "from sklearn.model_selection import train_test_split\n",
    "X_train,X_test,y_train,y_test=train_test_split(X,y,test_size=0.2,random_state=1)"
   ]
  },
  {
   "cell_type": "code",
   "execution_count": 53,
   "metadata": {},
   "outputs": [
    {
     "name": "stdout",
     "output_type": "stream",
     "text": [
      "[[0.0 0.0 1.0 'Pakki Venkata Sai Manasa' 19.0 90.0]\n",
      " [0.0 0.0 1.0 'Deepika' 19.0 78.0]\n",
      " [0.0 0.0 1.0 'Laxmi' 20.0 86.0]\n",
      " [0.0 0.0 1.0 'P vamsi' 21.0 0.0]\n",
      " [0.0 1.0 0.0 'Bhavani' 23.0 98.0]\n",
      " [0.0 1.0 0.0 'Aravind' 20.0 33.0]\n",
      " [0.0 1.0 0.0 'Kiran' 19.0 85.0]\n",
      " [1.0 0.0 0.0 'Charishma' 18.0 63.0]\n",
      " [0.0 0.0 1.0 'Ramu Yerramsetti' 20.0 75.0]\n",
      " [0.0 0.0 1.0 'Renuka kola' 19.0 62.53647058823529]\n",
      " [0.0 0.0 1.0 'Thota Prasanth' 20.0 97.0]\n",
      " [1.0 0.0 0.0 'Charan' 21.0 56.0]\n",
      " [0.0 0.0 1.0 'Yasin' 20.0 63.0]\n",
      " [0.0 0.0 1.0 'Sharon Kota' 18.0 20.0]\n",
      " [0.0 0.0 1.0 'Mani' 18.0 62.53647058823529]\n",
      " [0.0 0.0 1.0 'VINJAMURI ARAVIND' 19.0 46.0]\n",
      " [0.0 0.0 1.0 'Surya' 21.0 91.0]\n",
      " [0.0 1.0 0.0 'Aadhya' 19.0 24.0]\n",
      " [0.0 1.0 0.0 'Uma Shankar' 19.0 12.0]\n",
      " [0.0 1.0 0.0 'Bukkaptanam Narasimha Swami' 19.0 93.0]\n",
      " [0.0 0.0 1.0 'Michel' 18.0 99.0]\n",
      " [0.0 0.0 1.0 'Sweety' 22.0 62.53647058823529]\n",
      " [0.0 0.0 1.0 'V.Swetha' 20.0 90.0]\n",
      " [0.0 0.0 1.0 'Revathi' 20.0 62.53647058823529]\n",
      " [0.0 0.0 1.0 'V.Vineela' 20.0 89.0]\n",
      " [1.0 0.0 0.0 'M. Suryanarayana' 20.0 8.24]\n",
      " [0.0 0.0 1.0 'Rajana Sai Manikanta' 20.0 84.0]\n",
      " [0.0 0.0 1.0 'Jhansi' 20.0 62.53647058823529]\n",
      " [0.0 0.0 1.0 'MS Rizwan' 19.783783783783782 92.0]\n",
      " [0.0 0.0 1.0 'Dhamareshwarakumar Gandikota' 21.0 70.0]\n",
      " [1.0 0.0 0.0 'Sneha' 21.0 85.0]\n",
      " [1.0 0.0 0.0 'Nagaraj' 18.0 12.0]]\n"
     ]
    }
   ],
   "source": [
    "#Displays X Training Set Info\n",
    "print(X_train)"
   ]
  },
  {
   "cell_type": "code",
   "execution_count": 54,
   "metadata": {},
   "outputs": [
    {
     "name": "stdout",
     "output_type": "stream",
     "text": [
      "[[0.0 0.0 1.0 'Upparapalli Ramesh' 19.783783783783782 90.0]\n",
      " [0.0 1.0 0.0 'Shyam' 19.783783783783782 23.0]\n",
      " [0.0 1.0 0.0 'Jyothi' 19.0 62.53647058823529]\n",
      " [1.0 0.0 0.0 'Michel' 17.0 89.0]\n",
      " [0.0 1.0 0.0 'Sri' 21.0 29.0]\n",
      " [1.0 0.0 0.0 'Surya' 22.0 45.0]\n",
      " [0.0 0.0 1.0 'Paluri.Kali Halkesh' 22.0 72.0]\n",
      " [0.0 1.0 0.0 'Jahnavi' 19.0 39.0]]\n"
     ]
    }
   ],
   "source": [
    "#Displays X Test Set Info\n",
    "print(X_test)"
   ]
  },
  {
   "cell_type": "code",
   "execution_count": 55,
   "metadata": {},
   "outputs": [
    {
     "name": "stdout",
     "output_type": "stream",
     "text": [
      "[1 1 1 0 1 0 1 1 1 1 1 1 1 1 0 1 1 0 1 1 1 1 1 1 1 1 1 1 1 1 1 0]\n"
     ]
    }
   ],
   "source": [
    "#Displays y Training Set Info\n",
    "print(y_train)"
   ]
  },
  {
   "cell_type": "code",
   "execution_count": 56,
   "metadata": {},
   "outputs": [
    {
     "name": "stdout",
     "output_type": "stream",
     "text": [
      "[1 0 1 0 0 0 1 1]\n"
     ]
    }
   ],
   "source": [
    "#Displays y Test Set Info\n",
    "print(y_test)"
   ]
  },
  {
   "cell_type": "code",
   "execution_count": 57,
   "metadata": {},
   "outputs": [],
   "source": [
    "#Feature Scaling\n",
    "from sklearn.preprocessing import StandardScaler\n",
    "sc=StandardScaler()\n",
    "X_train[:,4:]=sc.fit_transform(X_train[:,4:])\n",
    "X_test[:,4:]=sc.transform(X_test[:,4:])"
   ]
  },
  {
   "cell_type": "code",
   "execution_count": 58,
   "metadata": {},
   "outputs": [
    {
     "name": "stdout",
     "output_type": "stream",
     "text": [
      "[[0.0 0.0 1.0 'Pakki Venkata Sai Manasa' -0.63429292487538\n",
      "  0.8838528186880219]\n",
      " [0.0 0.0 1.0 'Deepika' -0.63429292487538 0.47398849789433334]\n",
      " [0.0 0.0 1.0 'Laxmi' 0.2191193740478599 0.747231378423459]\n",
      " [0.0 0.0 1.0 'P vamsi' 1.0725316729710999 -2.190129587264642]\n",
      " [0.0 1.0 0.0 'Bhavani' 2.7793562708175794 1.1570956992171475]\n",
      " [0.0 1.0 0.0 'Aravind' 0.2191193740478599 -1.0630027050819986]\n",
      " [0.0 1.0 0.0 'Kiran' -0.63429292487538 0.7130760183573183]\n",
      " [1.0 0.0 0.0 'Charishma' -1.48770522379862 -0.0383419030977773]\n",
      " [0.0 0.0 1.0 'Ramu Yerramsetti' 0.2191193740478599 0.3715224176959112]\n",
      " [0.0 0.0 1.0 'Renuka kola' -0.63429292487538 -0.05417391705784739]\n",
      " [0.0 0.0 1.0 'Thota Prasanth' 0.2191193740478599 1.1229403391510069]\n",
      " [1.0 0.0 0.0 'Charan' 1.0725316729710999 -0.2774294235607623]\n",
      " [0.0 0.0 1.0 'Yasin' 0.2191193740478599 -0.0383419030977773]\n",
      " [0.0 0.0 1.0 'Sharon Kota' -1.48770522379862 -1.5070223859418277]\n",
      " [0.0 0.0 1.0 'Mani' -1.48770522379862 -0.05417391705784739]\n",
      " [0.0 0.0 1.0 'VINJAMURI ARAVIND' -0.63429292487538 -0.6189830242221693]\n",
      " [0.0 0.0 1.0 'Surya' 1.0725316729710999 0.9180081787541625]\n",
      " [0.0 1.0 0.0 'Aadhya' -0.63429292487538 -1.370400945677265]\n",
      " [0.0 1.0 0.0 'Uma Shankar' -0.63429292487538 -1.7802652664709535]\n",
      " [0.0 1.0 0.0 'Bukkaptanam Narasimha Swami' -0.63429292487538\n",
      "  0.986318898886444]\n",
      " [0.0 0.0 1.0 'Michel' -1.48770522379862 1.1912510592832883]\n",
      " [0.0 0.0 1.0 'Sweety' 1.9259439718943396 -0.05417391705784739]\n",
      " [0.0 0.0 1.0 'V.Swetha' 0.2191193740478599 0.8838528186880219]\n",
      " [0.0 0.0 1.0 'Revathi' 0.2191193740478599 -0.05417391705784739]\n",
      " [0.0 0.0 1.0 'V.Vineela' 0.2191193740478599 0.8496974586218812]\n",
      " [1.0 0.0 0.0 'M. Suryanarayana' 0.2191193740478599 -1.9086894203196425]\n",
      " [0.0 0.0 1.0 'Rajana Sai Manikanta' 0.2191193740478599\n",
      "  0.6789206582911776]\n",
      " [0.0 0.0 1.0 'Jhansi' 0.2191193740478599 -0.05417391705784739]\n",
      " [0.0 0.0 1.0 'MS Rizwan' 0.034597795902293345 0.9521635388203032]\n",
      " [0.0 0.0 1.0 'Dhamareshwarakumar Gandikota' 1.0725316729710999\n",
      "  0.20074561736520766]\n",
      " [1.0 0.0 0.0 'Sneha' 1.0725316729710999 0.7130760183573183]\n",
      " [1.0 0.0 0.0 'Nagaraj' -1.48770522379862 -1.7802652664709535]]\n"
     ]
    }
   ],
   "source": [
    "#Displays X Training Set Info\n",
    "print(X_train)"
   ]
  },
  {
   "cell_type": "code",
   "execution_count": 59,
   "metadata": {},
   "outputs": [
    {
     "name": "stdout",
     "output_type": "stream",
     "text": [
      "[[0.0 0.0 1.0 'Upparapalli Ramesh' 0.034597795902293345\n",
      "  0.8838528186880219]\n",
      " [0.0 1.0 0.0 'Shyam' 0.034597795902293345 -1.4045563057434056]\n",
      " [0.0 1.0 0.0 'Jyothi' -0.63429292487538 -0.05417391705784739]\n",
      " [1.0 0.0 0.0 'Michel' -2.3411175227218597 0.8496974586218812]\n",
      " [0.0 1.0 0.0 'Sri' 1.0725316729710999 -1.1996241453465615]\n",
      " [1.0 0.0 0.0 'Surya' 1.9259439718943396 -0.6531383842883101]\n",
      " [0.0 0.0 1.0 'Paluri.Kali Halkesh' 1.9259439718943396 0.2690563374974891]\n",
      " [0.0 1.0 0.0 'Jahnavi' -0.63429292487538 -0.8580705446851543]]\n"
     ]
    }
   ],
   "source": [
    "#Displays X Test Set Info\n",
    "print(X_test)"
   ]
  },
  {
   "cell_type": "code",
   "execution_count": 64,
   "metadata": {},
   "outputs": [
    {
     "data": {
      "text/html": [
       "<div>\n",
       "<style scoped>\n",
       "    .dataframe tbody tr th:only-of-type {\n",
       "        vertical-align: middle;\n",
       "    }\n",
       "\n",
       "    .dataframe tbody tr th {\n",
       "        vertical-align: top;\n",
       "    }\n",
       "\n",
       "    .dataframe thead th {\n",
       "        text-align: right;\n",
       "    }\n",
       "</style>\n",
       "<table border=\"1\" class=\"dataframe\">\n",
       "  <thead>\n",
       "    <tr style=\"text-align: right;\">\n",
       "      <th></th>\n",
       "      <th>Name</th>\n",
       "      <th>College Name</th>\n",
       "      <th>Age</th>\n",
       "      <th>Marks(1-100)</th>\n",
       "      <th>Result</th>\n",
       "    </tr>\n",
       "  </thead>\n",
       "  <tbody>\n",
       "    <tr>\n",
       "      <th>0</th>\n",
       "      <td>V.Vineela</td>\n",
       "      <td>GMRIT</td>\n",
       "      <td>20.0</td>\n",
       "      <td>89.0</td>\n",
       "      <td>Pass</td>\n",
       "    </tr>\n",
       "    <tr>\n",
       "      <th>1</th>\n",
       "      <td>V.Swetha</td>\n",
       "      <td>GMRIT</td>\n",
       "      <td>20.0</td>\n",
       "      <td>90.0</td>\n",
       "      <td>Pass</td>\n",
       "    </tr>\n",
       "    <tr>\n",
       "      <th>2</th>\n",
       "      <td>Upparapalli Ramesh</td>\n",
       "      <td>GMRIT</td>\n",
       "      <td>NaN</td>\n",
       "      <td>90.0</td>\n",
       "      <td>Pass</td>\n",
       "    </tr>\n",
       "    <tr>\n",
       "      <th>3</th>\n",
       "      <td>Jyothi</td>\n",
       "      <td>AU</td>\n",
       "      <td>19.0</td>\n",
       "      <td>NaN</td>\n",
       "      <td>Pass</td>\n",
       "    </tr>\n",
       "    <tr>\n",
       "      <th>4</th>\n",
       "      <td>Ramu Yerramsetti</td>\n",
       "      <td>GMRIT</td>\n",
       "      <td>20.0</td>\n",
       "      <td>75.0</td>\n",
       "      <td>Pass</td>\n",
       "    </tr>\n",
       "  </tbody>\n",
       "</table>\n",
       "</div>"
      ],
      "text/plain": [
       "                 Name College Name   Age  Marks(1-100) Result\n",
       "0           V.Vineela        GMRIT  20.0          89.0   Pass\n",
       "1            V.Swetha        GMRIT  20.0          90.0   Pass\n",
       "2  Upparapalli Ramesh        GMRIT   NaN          90.0   Pass\n",
       "3              Jyothi           AU  19.0           NaN   Pass\n",
       "4    Ramu Yerramsetti        GMRIT  20.0          75.0   Pass"
      ]
     },
     "execution_count": 64,
     "metadata": {},
     "output_type": "execute_result"
    }
   ],
   "source": [
    "#Name,College Name,Age,Marks(1-100),Result\n",
    "import seaborn as sns\n",
    "data=pd.read_csv('student.csv')\n",
    "data.head()"
   ]
  },
  {
   "cell_type": "code",
   "execution_count": 69,
   "metadata": {},
   "outputs": [
    {
     "name": "stderr",
     "output_type": "stream",
     "text": [
      "C:\\ProgramData\\Anaconda3\\lib\\site-packages\\seaborn\\_decorators.py:36: FutureWarning: Pass the following variable as a keyword arg: x. From version 0.12, the only valid positional argument will be `data`, and passing other arguments without an explicit keyword will result in an error or misinterpretation.\n",
      "  warnings.warn(\n"
     ]
    },
    {
     "data": {
      "text/plain": [
       "<AxesSubplot:xlabel='Marks(1-100)'>"
      ]
     },
     "execution_count": 69,
     "metadata": {},
     "output_type": "execute_result"
    },
    {
     "data": {
      "image/png": "[encoded data removed]",
      "text/plain": [
       "<Figure size 432x288 with 1 Axes>"
      ]
     },
     "metadata": {
      "needs_background": "light"
     },
     "output_type": "display_data"
    }
   ],
   "source": [
    "# Box Plot\n",
    "import seaborn as sns\n",
    "sns.boxplot(data['Marks(1-100)'])"
   ]
  },
  {
   "cell_type": "code",
   "execution_count": 70,
   "metadata": {},
   "outputs": [
    {
     "name": "stdout",
     "output_type": "stream",
     "text": [
      "(array([ 7, 10, 30], dtype=int64),)\n"
     ]
    }
   ],
   "source": [
    "# Position of the Outlier\n",
    "print(np.where(data['Marks(1-100)']>95))"
   ]
  },
  {
   "cell_type": "code",
   "execution_count": null,
   "metadata": {},
   "outputs": [],
   "source": []
  }
 ],
 "metadata": {
  "kernelspec": {
   "display_name": "Python 3",
   "language": "python",
   "name": "python3"
  },
  "language_info": {
   "codemirror_mode": {
    "name": "ipython",
    "version": 3
   },
   "file_extension": ".py",
   "mimetype": "text/x-python",
   "name": "python",
   "nbconvert_exporter": "python",
   "pygments_lexer": "ipython3",
   "version": "3.8.5"
  }
 },
 "nbformat": 4,
 "nbformat_minor": 4
}
